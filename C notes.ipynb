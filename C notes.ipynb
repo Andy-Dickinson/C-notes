{
 "cells": [
  {
   "cell_type": "markdown",
   "id": "7f97a600-1c8c-4d67-b614-5f170e1f4e7e",
   "metadata": {
    "tags": []
   },
   "source": [
    "# <center>C Notes</center>"
   ]
  },
  {
   "cell_type": "markdown",
   "id": "5d8c8ad0-c6bc-4b76-8cc9-d19a1b23fca2",
   "metadata": {},
   "source": [
    "[Documentation](https://devdocs.io/c/)"
   ]
  },
  {
   "cell_type": "markdown",
   "id": "d7fc0c12-7b14-4cfc-8a31-c42e4c568cdc",
   "metadata": {},
   "source": [
    "C is **CASE SENSITIVE** and **ALL INSTRUCTIONS** shoule be written in **LOWERCASE**...No camelcase!!  "
   ]
  },
  {
   "cell_type": "markdown",
   "id": "89315c6b-fc54-4dc9-8bbe-2669cae7f524",
   "metadata": {},
   "source": [
    "C is a **high-level fully compiled** language  \n",
    "C is a **procedural language** that provides no support for objects and classes  \n",
    "Designed as a **general-purpose** programming language by Dennis Ritchie at the Bell Laboratories in 1972  \n",
    "C is very fast compared to other languages, like Java and Python  \n",
    "C++ supports classes and objects unlike C  "
   ]
  },
  {
   "cell_type": "markdown",
   "id": "d85f51f7-5526-4e09-ad5c-8cf1d305a70f",
   "metadata": {},
   "source": [
    "A text editor is required, like Notepad,  \n",
    "along with a compiler like GCC.  \n",
    "Visual Studio can be used if an IDE is wanted  "
   ]
  },
  {
   "cell_type": "markdown",
   "id": "42089a1e-d12e-4286-93ed-949d9ba9b941",
   "metadata": {
    "tags": []
   },
   "source": [
    "**Compile:**  \n",
    "\n",
    "Download [mingw-setup.exe](http://www.codeblocks.org/) for IDE  \n",
    "OR in terminal, enter **bash** >> **GCC `filename.c` -o nameOfExeFile**  \n",
    "\n",
    "After writing a file in **.c**:  \n",
    "In IDE, click **Build** >> **Build and Run**  "
   ]
  },
  {
   "cell_type": "markdown",
   "id": "46ba560a-a572-426b-8079-e189903779e9",
   "metadata": {},
   "source": [
    "[<p style=\"text-align: right;\">**⬆ Table of Contents ⬆**</p>](#C-Notes)"
   ]
  },
  {
   "cell_type": "markdown",
   "id": "5fb1746e-ca2b-4548-b681-7b5958358d18",
   "metadata": {},
   "source": [
    "---"
   ]
  },
  {
   "cell_type": "markdown",
   "id": "693486c9-26b3-406c-9463-fba16743be9c",
   "metadata": {
    "tags": []
   },
   "source": [
    "## Syntax  "
   ]
  },
  {
   "cell_type": "markdown",
   "id": "c30dd6d7-a57a-4d6d-af39-bfe369ddca54",
   "metadata": {
    "tags": []
   },
   "source": [
    "**Header file library:**  \n",
    "**`#include <stdio.h>`**  \n",
    "* Allows us to work with input and output functions such as printf()  \n",
    "\n",
    "Every statement ends with semi-colon **`;`**  \n",
    "\n",
    "Example code:  \n",
    "`#include <stdio.h>`  \n",
    "  \n",
    "`int main() {`  \n",
    "&emsp;`printf(\"Hello World!\");`  \n",
    "&emsp;`return 0;`  \n",
    "`}`  \n",
    "* main() is required in every C program  \n",
    "* return 0 ends the main() function  \n",
    "* curley brackets required for functions  "
   ]
  },
  {
   "cell_type": "markdown",
   "id": "65651406-7d2b-4dee-952c-7bf330de8bae",
   "metadata": {},
   "source": [
    "**Print:**  \n",
    "`printf(\"print message\");`  \n",
    "* Does NOT insert a new line at the end of the output.  \n",
    "* print new line with `\\n`**  "
   ]
  },
  {
   "cell_type": "markdown",
   "id": "ef0e87d3-8850-49d3-bb3b-3460770b642f",
   "metadata": {},
   "source": [
    "**Escape characters:**  \n",
    "`\\t` Horizontal tab  \n",
    "`\\\\` Insert **&bsol;** character  \n",
    "`\\\"` Insert **\"** character  \n",
    "`\\n` Insert **new line**  \n",
    "`\\0` **Null** (Used to terminate char strings)  \n",
    "`%%` Use to print **% symbol**  "
   ]
  },
  {
   "cell_type": "markdown",
   "id": "a3324f6b-a0ea-4bea-a3be-4ace527ab1c7",
   "metadata": {},
   "source": [
    "**Comments:**  \n",
    "`//` Single line comments  \n",
    "`/*` Multiline comments, remember to finish with `*/  "
   ]
  },
  {
   "cell_type": "markdown",
   "id": "8aa8c249-5900-49d6-a135-4c46e7640790",
   "metadata": {},
   "source": [
    "**Declaring variables:**  \n",
    "`<type> <variable_name> = <value>;`  \n",
    "* Variables can be declared without assigning a value on creation `<type> <variable_name>;`  \n",
    "* Multiple variables of the same type can be assigned in one line seperated with a comma `<type> <variable1> = <val>, <variable2> = <val>, ...;`\n",
    "* Variables **CANNOT** be printed with printf - use **format specifiers**  "
   ]
  },
  {
   "cell_type": "markdown",
   "id": "0fca3dfe-3c2b-4b1b-8be9-9a6c8c149450",
   "metadata": {},
   "source": [
    "**Constants:**  \n",
    "`const <type> <VARIABLE_NAME> = <value>;`  \n",
    "* Declares an **unchangable and read-only** variable  \n",
    "* **MUST** be assigned with a **value** when declaring a constant  \n",
    "* Usual to declare constant variable name in uppercase  "
   ]
  },
  {
   "cell_type": "markdown",
   "id": "656b9e1e-742a-49ca-a368-f0fd987f917e",
   "metadata": {},
   "source": [
    "[<p style=\"text-align: right;\">**⬆ Table of Contents ⬆**</p>](#C-Notes)"
   ]
  },
  {
   "cell_type": "markdown",
   "id": "02ea063e-a01d-4cb5-820a-7b4eb67eaa6e",
   "metadata": {},
   "source": [
    "---"
   ]
  },
  {
   "cell_type": "markdown",
   "id": "7022cf24-2d5b-48e6-9a81-1532235a0f7c",
   "metadata": {},
   "source": [
    "## Format Specifiers and Types  "
   ]
  },
  {
   "cell_type": "markdown",
   "id": "05e0e31e-1ea3-4a82-b07e-43b7244fe5e2",
   "metadata": {},
   "source": [
    "**Format specifiers:**  \n",
    "`printf(\"<specifier>\", <variable_name>);`  \n",
    "* Used to output variables  \n",
    "* Text can be included in quotes  \n",
    "* Multiple specifiers can be included, list variables seperated with commas  \n",
    "\n",
    "|Specifier|Type|Size|Description|\n",
    "|:--:|:--|:--|:--|\n",
    "|`%d` or `%i`|int|2 or 4 bytes|Stores whole numbers, without decimals<br>d = Signed integer<br>i = Unsigned integer|\n",
    "|`%c`|char|1 byte|Stores a single character/letter/number, or ASCII values|\n",
    "|`%f`|float|4 bytes|Stores fractional numbers, containing one or more decimals. Sufficient for storing 6-7 decimal digits<br>Specify number of decimals with `%.<num>f`|\n",
    "|`%lf`|double|8 bytes|Stores fractional numbers, containing one or more decimals. Sufficient for storing 15 decimal digits<br>Specify number of decimals with `%.<num>lf`|\n",
    "|`%s`|string|[size of array] bytes||\n",
    "|`%lu`|unsigned int or unsigned long|||\n",
    "|`%p`|pointer|||\n",
    "|`%zu`|size_t||Specifically for use with **`size_t` type** (Unsigned length modifier / unsigned integer)<br>which represents the **size of any object in bytes**|\n",
    "\n",
    "[Format specifiers in C](https://www.tutorialspoint.com/format-specifiers-in-c)  \n",
    "[Types and sizes](https://www.tutorialspoint.com/cprogramming/c_data_types.htm)  "
   ]
  },
  {
   "cell_type": "markdown",
   "id": "9281b784-856e-4a8e-9f2f-d62b50b12574",
   "metadata": {},
   "source": [
    "**Type conversion and sums:**  \n",
    "**CAUTION using floats**  \n",
    "`float <varaible_name> = 5 / 2;`  \n",
    "* This will result in **2.000000** as `5` and `2` are both **ints**  \n",
    "\n",
    "`float <variable_name> = (float) 5 / 2;`  \n",
    "* This outputs **correctly** as a float  "
   ]
  },
  {
   "cell_type": "markdown",
   "id": "f012ed6c-08df-418f-85a1-4da48601b824",
   "metadata": {},
   "source": [
    "**Sizeof Operator:**  \n",
    "`printf(\"%lu\\n\", sizeof(<variable_name>));`  \n",
    "* Prints the memory size **(in bytes)** of a data type or a variable  \n",
    "* Compiler expects the sizeof operator to return a long unsigned int (%lu)  "
   ]
  },
  {
   "cell_type": "markdown",
   "id": "c7c0e578-88aa-4e80-bfc5-9e8cc56b5048",
   "metadata": {},
   "source": [
    "[<p style=\"text-align: right;\">**⬆ Table of Contents ⬆**</p>](#C-Notes)"
   ]
  },
  {
   "cell_type": "markdown",
   "id": "7632635c-62bd-4452-824d-b5d0d392251c",
   "metadata": {},
   "source": [
    "---"
   ]
  },
  {
   "cell_type": "markdown",
   "id": "166d1c2f-b8fc-4e27-8dcf-31de2f49afbd",
   "metadata": {},
   "source": [
    "## Operators"
   ]
  },
  {
   "cell_type": "markdown",
   "id": "8f3ce512-fff9-4e94-839a-7efab35529e1",
   "metadata": {},
   "source": [
    "**Arithmetic Operators:**  \n",
    "\n",
    "|Operator|Name|Description|Example|\n",
    "|:--:|:--|:--|:--|\n",
    "|`+`|Addition|Adds together two values|x + y|\n",
    "|`-`|Subtraction|Subtracts one value from another|x - y|\n",
    "|`*`|Multiplication|Multiplies two values|x * y|\n",
    "|`/`|Division|Divides one value by another|x / y|\n",
    "|`%`|Modulus|Returns the division remainder|x % y|\n",
    "|`++`|Increment|Increases the value of a variable by 1|++x (increments, then outputs)<br>x++ (outputs, then increments)|\n",
    "|`--`|Decrement|Decreases the value of a variable by 1|--x (decreases, then outputs)<br>x-- (outputs, then decreases)|"
   ]
  },
  {
   "cell_type": "markdown",
   "id": "6990ae03-300c-4f4f-89cb-44ecf41b61fa",
   "metadata": {},
   "source": [
    "**Assignment Operators:**  \n",
    "\n",
    "|Operator|Description|Example|\n",
    "|:--:|:--|:--|\n",
    "|`=`|Simple assignment operator. Assigns values from right side operands to left side operand|C = A + B will assign the value of A + B to C|\n",
    "|`+=`|Add AND assignment operator. It adds the right operand to the left operand and assign the result to the left operand|C += A is equivalent to C = C + A|\n",
    "|`-=`|Subtract AND assignment operator. It subtracts the right operand from the left operand and assigns the result to the left operand|C -= A is equivalent to C = C - A|\n",
    "|`*=`|Multiply AND assignment operator. It multiplies the right operand with the left operand and assigns the result to the left operand|C \\*= A is equivalent to C = C \\* A|\n",
    "|`/=`|Divide AND assignment operator. It divides the left operand with the right operand and assigns the result to the left operand|C /= A is equivalent to C = C / A|\n",
    "|`%=`|Modulus AND assignment operator. It takes modulus using two operands and assigns the result to the left operand|C %= A is equivalent to C = C % A|\n",
    "|`<<=`|Left shift AND assignment operator|C <<= 2 is same as C = C << 2|\n",
    "|`>>=`|Right shift AND assignment operator|C >>= 2 is same as C = C >> 2|\n",
    "|`&=`|Bitwise AND assignment operator|C &= 2 is same as C = C & 2|\n",
    "|`^=`|Bitwise exclusive OR and assignment operator|C ^= 2 is same as C = C ^ 2|\n",
    "|`\\|=`|Bitwise inclusive OR and assignment operator|C \\|= 2 is same as C = C \\| 2|"
   ]
  },
  {
   "cell_type": "markdown",
   "id": "69071b01-3668-45e6-9e7a-c431b536ae07",
   "metadata": {},
   "source": [
    "**Comparison Operators:**  \n",
    "\n",
    "|Operator|Name|\n",
    "|:--:|:--|\n",
    "|`==`|Equal to|\n",
    "|`!=`|Not equal|\n",
    "|`>`|Greater than|\n",
    "|`<`|Less than|\n",
    "|`>=`|Greater than or equal to|\n",
    "|`<=`|Less than or equal to|"
   ]
  },
  {
   "cell_type": "markdown",
   "id": "81f87cc6-9ba3-4807-a907-fcae0754393f",
   "metadata": {},
   "source": [
    "**Logical Operators:**  \n",
    "\n",
    "|Operator|Name|Description|Example|\n",
    "|:--:|:--|:--|:--|\n",
    "|`&&`|Logical and|Returns true if both statements are true|x < 5 &&  x < 10|\n",
    "|`\\|\\|`|Logical or|Returns true if one of the statements is true|x < 5 \\|\\| x < 4|\n",
    "|`!`|Logical not|Reverse the result, returns false if the result is true|!(x < 5 && x < 10)|"
   ]
  },
  {
   "cell_type": "markdown",
   "id": "28a635df-f79e-4b30-a46c-1ea2ab9daf82",
   "metadata": {},
   "source": [
    "[All operators and Operators Precedence](https://www.tutorialspoint.com/cprogramming/c_operators.htm)"
   ]
  },
  {
   "cell_type": "markdown",
   "id": "f95ff272-978b-4c73-8c1e-098271b824b0",
   "metadata": {},
   "source": [
    "[C-data types](https://www.tutorialspoint.com/cprogramming/c_data_types.htm)"
   ]
  },
  {
   "cell_type": "markdown",
   "id": "996fa947-3002-4da5-8f71-a9c2e37d3cc0",
   "metadata": {},
   "source": [
    "[<p style=\"text-align: right;\">**⬆ Table of Contents ⬆**</p>](#C-Notes)"
   ]
  },
  {
   "cell_type": "markdown",
   "id": "3b9d9ad9-ae12-4b9d-8061-8da244c76a10",
   "metadata": {},
   "source": [
    "---"
   ]
  },
  {
   "cell_type": "markdown",
   "id": "eb09e657-bb1d-4b38-8bdf-f3421473e3a7",
   "metadata": {},
   "source": [
    "## Booleans  \n",
    "`#include <stdbool.h>`  \n",
    "`bool <varaible_name> = <value>;`  \n",
    "* Booleans are not a built-in type, and **must be included** in the header as shown  \n",
    "* Can **take** values `true` or `false`  \n",
    "* **Returned** as **integers**  \n",
    "* **Use** **`%d`** format specifier  \n",
    "* Can compare numbers, boolean variables, or special structures like arrays  "
   ]
  },
  {
   "cell_type": "markdown",
   "id": "1b2f3a8c-fcfd-4fe5-963d-86135a11b031",
   "metadata": {},
   "source": [
    "[<p style=\"text-align: right;\">**⬆ Table of Contents ⬆**</p>](#C-Notes)"
   ]
  },
  {
   "cell_type": "markdown",
   "id": "ca9133e1-ca93-44eb-adef-d6562e45cd53",
   "metadata": {},
   "source": [
    "---"
   ]
  },
  {
   "cell_type": "markdown",
   "id": "456e2a03-9544-47e0-9860-8cdf7f12bd7d",
   "metadata": {},
   "source": [
    "## Loops"
   ]
  },
  {
   "cell_type": "markdown",
   "id": "b15991b0-f2c2-4947-b1ee-46c9bb5c9b26",
   "metadata": {},
   "source": [
    "**if ... else:**  \n",
    "`if (<condition>) {`  \n",
    "&emsp;`code_to_execute_if_condition_is_true;`  \n",
    "`} else if (<condition2>) {`  \n",
    "&emsp;`code_to_execute_if_condition2_is_true;`  \n",
    "`else {`  \n",
    "&emsp;`code_to_execute_if_condition_is_false;`  \n",
    "`}`  \n",
    "* Else if and else blocks are optional  "
   ]
  },
  {
   "cell_type": "markdown",
   "id": "8277a8af-d5ec-45eb-b969-b751c933f7cd",
   "metadata": {},
   "source": [
    "**Short hand if ... else (ternary operator):**  \n",
    "`<variable_name> = (<condition>) ? <expression_true> : <expression_false>;`  \n",
    "* Does not require being assigned to a variable  \n",
    "* Runs expressionTrue when condition true, and expressionFalse when false  "
   ]
  },
  {
   "cell_type": "markdown",
   "id": "8fa16320-ba8e-4948-8449-bc2052417c0e",
   "metadata": {},
   "source": [
    "**Switch statement:**  \n",
    "`switch(<expression>) {`  \n",
    "&emsp;`case <value>:`  \n",
    "&emsp;&emsp;`code_block;`  \n",
    "&emsp;&emsp;`break;`  \n",
    "&emsp;`case <value>:`  \n",
    "&emsp;&emsp;`code_block;`  \n",
    "&emsp;&emsp;`break;`  \n",
    "&emsp;`default:`  \n",
    "&emsp;&emsp;`code_block;`  \n",
    "`}`  \n",
    "* The switch expression (can be a variable) is evaluated once  \n",
    "* The value of the expression is compared with the values of each case  \n",
    "* If there is a match, the associated block of code is executed  \n",
    "* The break statement breaks out of the switch block and stops the execution  \n",
    "* The default statement is optional, and specifies some code to run if there is no case match  "
   ]
  },
  {
   "cell_type": "markdown",
   "id": "53e88cb1-9873-418c-a8ff-da12167e6cea",
   "metadata": {},
   "source": [
    "**While loop:**  \n",
    "`while (<condition>) {`  \n",
    "&emsp;`code_block_to_be_executed;`  \n",
    "&emsp;`incrementer;`  \n",
    "`}`  \n",
    "* Incrementer is not always included (infinite loop / change value to false etc), but is very common  \n",
    "* Executes loop while condition is true  \n",
    "* May never run, as condition is checked first  "
   ]
  },
  {
   "cell_type": "markdown",
   "id": "e3b4afb9-3ee5-4bdb-9b5e-afbf77ef5ff5",
   "metadata": {},
   "source": [
    "**Do/While loop:**  \n",
    "`do {`  \n",
    "&emsp;`code_block_to_be_executed;`  \n",
    "&emsp;`incrementer;`  \n",
    "`}`  \n",
    "`while (<condition>);`  \n",
    "* Incrementer is not always included (infinite loop / change value to false etc), but is very common  \n",
    "* Executes loop while condition is true  \n",
    "* Will be executed at least once, as condition is checked **after** code block is run    "
   ]
  },
  {
   "cell_type": "markdown",
   "id": "1800820e-3fa2-43d3-8f8d-366e62bb20a9",
   "metadata": {},
   "source": [
    "**For loop:**  \n",
    "`for (<initialise>; <condition>; <incrementer>) {`  \n",
    "&emsp;`code_block_to_be_executed;`  \n",
    "`}`  \n",
    "* Used when you **know exactly** how many times you want to loop  \n",
    "* Initialise variable can be declared (with type) before the loop, or in the initialise statment  "
   ]
  },
  {
   "cell_type": "markdown",
   "id": "5da0d71a-b6ae-41e6-a396-2e46753b339e",
   "metadata": {},
   "source": [
    "**Break statment:**  \n",
    "`break;`\n",
    "* Used to break out of a loop or switch statment  "
   ]
  },
  {
   "cell_type": "markdown",
   "id": "63844035-e72a-45bc-b155-e2a2b073ccbf",
   "metadata": {},
   "source": [
    "**Continue statment:**  \n",
    "`continue;`  \n",
    "* Breaks one iteration (usually in a loop)  "
   ]
  },
  {
   "cell_type": "markdown",
   "id": "3ef8400e-a67a-4d41-af32-cd90d1faf4a9",
   "metadata": {},
   "source": [
    "[<p style=\"text-align: right;\">**⬆ Table of Contents ⬆**</p>](#C-Notes)"
   ]
  },
  {
   "cell_type": "markdown",
   "id": "8d256cfd-731b-43b0-9bf0-6cd2fc6a03bc",
   "metadata": {},
   "source": [
    "---"
   ]
  },
  {
   "cell_type": "markdown",
   "id": "56b802ec-a018-41d0-abb4-311f16e29893",
   "metadata": {},
   "source": [
    "## Arrays  \n",
    "* Used to store multiple values in a single variable, instead of declaring separate variables for each value  \n",
    "\n",
    "`<type> <variable_name>[] = {<val1>, <val2>, ...};`  \n",
    "**OR**  \n",
    "`<type> <variable_name>[<size>]`  \n",
    "* Access elements with `<variable_name>[<index>]` (first element is **index 0**)  \n",
    "* Elements can be reassigned by indexing and using assignment operator  \n",
    "* **Cannot change size** after creation  "
   ]
  },
  {
   "cell_type": "markdown",
   "id": "1856f637-52c7-40bb-add9-08c0c87dd5d8",
   "metadata": {},
   "source": [
    "**Matrices:**  \n",
    "`<type> <variable_name>[<size>][<size>]... = { {<values of 1st row, comma seperated>}, {<values of 2nd row>} };`  \n",
    "* Index with `<variable_name>[<row>][<col>]...`  "
   ]
  },
  {
   "cell_type": "markdown",
   "id": "777785bb-3d85-43e4-a41b-6a0cc81ce836",
   "metadata": {},
   "source": [
    "[<p style=\"text-align: right;\">**⬆ Table of Contents ⬆**</p>](#C-Notes)"
   ]
  },
  {
   "cell_type": "markdown",
   "id": "eb967ab7-38ce-45f7-b8fa-a2c9b68fb4b9",
   "metadata": {},
   "source": [
    "---"
   ]
  },
  {
   "cell_type": "markdown",
   "id": "36f36572-f163-41ca-a2d5-69afa5490af6",
   "metadata": {},
   "source": [
    "## Strings  \n",
    "* No String type in C, must use `char` and create an `array` of characters  \n",
    "\n",
    "`char <variable_name>[] = \"<string>\";`  \n",
    "**OR**  \n",
    "`char <variable_name>[] = {'<char0>', '<char1>', ..., '\\0'};` &emsp; -- **MUST include** `'\\0'` at end  \n",
    "* Must use double quotes  \n",
    "* Output with format specifier `%s`  \n",
    "* **Access elements by indexing** like arrays `<variable_name>[<index>]`  \n",
    "* **Change a character by indexing** and using **single quotes** `<variable_name>[<index>] = '<newChar>';`  \n",
    "* `'\\0'` is the null terminating character, and must be included when creating a string with chars (This still counts as a character with sizeof operator)  "
   ]
  },
  {
   "cell_type": "markdown",
   "id": "16d92941-5c28-499e-98aa-1ae0bfa0a209",
   "metadata": {},
   "source": [
    "**Special Characters:**  \n",
    "* The following must be escaped when adding to a string:  \n",
    "* Note the backslash counts as one character, and the character its escaping as another when using the sizeof operator  \n",
    "\n",
    "|Character|Enter as|Description|\n",
    "|:--:|:--:|:--|\n",
    "|`'`|`\\'`|Single quote|\n",
    "|`\"`|`\\\"`|Double quote|\n",
    "|`\\`|`\\\\`|Backslash|"
   ]
  },
  {
   "cell_type": "markdown",
   "id": "d17ba224-e84f-475a-8647-07a1a9a3d9af",
   "metadata": {},
   "source": [
    "## String Functions  \n",
    "`#include <string.h>`  \n",
    "* **Must include** in header to use String functions  \n",
    "\n",
    "|Function name|Syntax|Specifier (if printing)|Description|\n",
    "|:--|:--:|:--:|:--|\n",
    "|String Length|`strlen(<variable>);`|`%d`|Returns the length of a string **NOT including** null terminator or escape characters|\n",
    "|Concatenate Strings|`strcat(<string_var1>, <string_var2>);`|`%s`|Combines two strings, result is **stored in \\<string_var1\\>**<br>Note that the **size** of **\\<string_var1\\>** should be **large enough** to store the result of the **two strings combined**|\n",
    "|Copy String|`strcpy(<string_var2>, <string_var1>);`|`%s`|Copies \\<string_var1\\> to \\<string_var2\\><br>Note that the **size** of **\\<string_var2\\>** should be **large enough** to store the copied string|\n",
    "|Compare Strings|`strcmp(<string_var1>, <string_var2>);`|`%d`|Compares two strings<br>Returns **0 if equal**, or a non-zero value if not equal|"
   ]
  },
  {
   "cell_type": "markdown",
   "id": "e514224c-8dd8-4925-8d96-190161b263c4",
   "metadata": {},
   "source": [
    "[<p style=\"text-align: right;\">**⬆ Table of Contents ⬆**</p>](#C-Notes)"
   ]
  },
  {
   "cell_type": "markdown",
   "id": "9ed933ff-0f23-4564-af83-52cc19f84cc9",
   "metadata": {},
   "source": [
    "---"
   ]
  },
  {
   "cell_type": "markdown",
   "id": "e664922a-e006-4f1d-84b7-d83468aba23e",
   "metadata": {},
   "source": [
    "## User Input  \n",
    "**Single words:**  \n",
    "`scanf(\"%<format_specifier>\", &<variable_name>);`  \n",
    "**Multiple inputs (single words):**  \n",
    "`scanf(\"%<format_specifier1> %<format_specifier1> ...\", &<variable_name>, &<variable_name>, ...);`  \n",
    "* **Size of string array** used must have been specified, so **ensure large enough**  \n",
    "* **Whitespace and tabs etc** considered **terminating characters**, so if multiple words entered for a single string, **only the first word will be accepted**  \n",
    "\n",
    "**Line of text input:**  \n",
    "`fgets(<variable_name>, sizeof(<variable_name>), stdin);`  \n",
    "* Reads a **line of input text**  "
   ]
  },
  {
   "cell_type": "markdown",
   "id": "2ce93869-533b-407b-8baa-375b1139d0cf",
   "metadata": {},
   "source": [
    "[<p style=\"text-align: right;\">**⬆ Table of Contents ⬆**</p>](#C-Notes)"
   ]
  },
  {
   "cell_type": "markdown",
   "id": "9eb34136-3f9a-4bde-b1f1-b7087195b307",
   "metadata": {},
   "source": [
    "---"
   ]
  },
  {
   "cell_type": "markdown",
   "id": "40f65014-eb0a-4408-846d-482fcca51167",
   "metadata": {
    "tags": []
   },
   "source": [
    "## Memory Address and Pointers  \n",
    "\n",
    "**Summary of pointers:**  \n",
    "\n",
    "|Syntax|Operator|Operator Name|Effect|\n",
    "|:--:|:--:|:--|:--|\n",
    "|`&variable;`|`&`|Reference operator|**Returns memory address of variable**|\n",
    "|`type* pointer_variable = &variable;`|`*`|Indirection operator|**Declares a pointer**<br>Does not require setting at this point, ie:<br>&emsp;&emsp;`type* pointer_variable;`<br>&emsp;&emsp;`pointer_variable = &variable;`  **--NOTE `*` is not used here**<br>Declare multiple in one line:<br>&emsp;&emsp;`type* ptr1, * ptr2;` **--requires `*` for each pointer**<br>To assign at same time:<br>&emsp;&emsp;`type* ptr1 = &variable, * ptr2 = &variable;`|\n",
    "|`*pointer_variable;`|`*`|Dereference operator|**Returns <u>value</u> of variable** that pointer is **pointing to**|\n",
    "\n",
    "\n",
    "**Memory address:**  \n",
    "`printf(\"%p\\n\", &<variable_name>);`  \n",
    "* Returns the **memory address in hexidecimal**  \n",
    "* When a variable is created in C, a memory address is assigned to the variable  \n",
    "* `&` is the **reference operator**, `&<variable_name>` is called a **pointer**   \n",
    "\n",
    "**Pointers:**  \n",
    "`<type>* <pointer_variable_name> = &<variable_name>;`  \n",
    "* A **variable** that **stores** the **memory address of another variable** as its value  \n",
    "* A **pointer variable points** to a **data type** of the **same type**, these <u>must match</u>  \n",
    "* `*` is **required**  \n",
    "* Use with **CAUTION**, as **possible to damage data stored in other memory addresses**  \n",
    "\n",
    "**Print <u>address</u> of variable pointer is pointing at:**  \n",
    "`printf(\"%p\\n\", <pointer_variable_name>);`  \n",
    "* Outputs the memory address of the variable the pointer is pointing to  \n",
    "\n",
    "**Print <u>value</u> of variable pointer is pointing at:**  \n",
    "`printf(\"%<specifier>\\n\", *<pointer_variable_name>);`  \n",
    "* `*` is known as the **dereference operator**  \n",
    "* Outputs the value of the variable the pointer is pointing to  \n",
    "\n",
    "**Access arrays with pointers:**  \n",
    "`int <array_name>[<size>] = {<val1>, <val2>, ...};`  \n",
    "* Defines an array  \n",
    "`printf(\"%d\", *<array_name>);`  \n",
    "* Prints **1st element** of array as that is the same address as the array itself  \n",
    "`printf(\"%d\", *(<array_name> + 1));`  \n",
    "* Prints the **2nd element** of array  \n",
    "`printf(\"%d\", *(<array_name> + 2));`  \n",
    "* Prints the **3rd element** of array  \n",
    "* This technique can be used in a **loop** by replacing the number to increase the address with `i`  \n",
    "* **Accessing arrays** (especially large arrays), is **faster with pointers**   "
   ]
  },
  {
   "cell_type": "markdown",
   "id": "ba6a2060-4a61-417c-a51c-6fe9c3b05629",
   "metadata": {},
   "source": [
    "[<p style=\"text-align: right;\">**⬆ Table of Contents ⬆**</p>](#C-Notes)"
   ]
  },
  {
   "cell_type": "markdown",
   "id": "98f2c2be-05e4-450e-be3d-f65cbc81c3c7",
   "metadata": {},
   "source": [
    "---"
   ]
  },
  {
   "cell_type": "markdown",
   "id": "6563ee03-cbda-47a6-843d-c5648c8b37fa",
   "metadata": {},
   "source": [
    "## Functions"
   ]
  },
  {
   "cell_type": "markdown",
   "id": "0fc1e743-377c-431c-bb17-9eaa9747d34f",
   "metadata": {},
   "source": [
    "**Declare a function:**  \n",
    "`<return_type> <function_name>(<type> <parameter1>, <type> <parameter2>, ...) {`  \n",
    "&emsp;`code_block_to_be_executed;`  \n",
    "&emsp;`return <value>;` &emsp;&emsp;**-- not required if** `<return_type>` **is** `void`  \n",
    "`}`  \n",
    "* Parameters are optional variables to be used inside the function  \n",
    "* If `<return_type>` is **not** `void`, the function must finish with a **return statement** `return <value>;`  \n",
    "* **Return statement** could return a value or a variable  \n",
    "* **Return statment value** of 0 is usually used for error handling to denote finished without an error, must use `<return_type>` **int** in declaration  \n",
    "* Functions can be declared both above and below the main function (**see below**)  \n",
    "\n",
    "**Good practice to declare as follows:**  \n",
    "`// Function declaration`  \n",
    "`int add(int, int);`  \n",
    "\n",
    "`// Main method`  \n",
    "`int main() {`  \n",
    "&emsp;`int result = add(5, 3); // call the function`  \n",
    "&emsp;`printf(\"Result is = %d\", result);`  \n",
    "&emsp;`return 0;`  \n",
    "`}`  \n",
    "\n",
    "`//Function definition`  \n",
    "`int add(int x, int y) {`  \n",
    "&emsp;`return x + y;`  \n",
    "`}`  "
   ]
  },
  {
   "cell_type": "markdown",
   "id": "e0333bc4-0411-4f51-bb91-4edd53ebcaac",
   "metadata": {},
   "source": [
    "**Call a function:**  \n",
    "`<function_name>(<argument1>, <argument2>, ...);`  \n",
    "* Must be the **same number** of **arguments as parameters** in defined function  \n",
    "* **Arguments** must be in the **same order as parameters** in defined function  "
   ]
  },
  {
   "cell_type": "markdown",
   "id": "17c2fcd5-488b-421a-9603-6c5c4dfbfaf8",
   "metadata": {},
   "source": [
    "**Recursion:**  \n",
    "* Making a function call itself  \n",
    "\n",
    "example:  \n",
    "`int sum(int k);`  \n",
    "  \n",
    "`int main() {`  \n",
    "&emsp;`int result = sum(10);`  \n",
    "&emsp;`printf(\"%d\", result);`  \n",
    "&emsp;`return 0;`  \n",
    "`}`  \n",
    "  \n",
    "`int sum(int k) {`  \n",
    "&emsp;`if (k > 0) {`  \n",
    "&emsp;&emsp;`return k + sum(k - 1);` &emsp;&emsp;**-- call to itself**  \n",
    "&emsp;`} else {`  \n",
    "&emsp;&emsp;`return 0;`  \n",
    "&emsp;`}`  \n",
    "`}`  \n",
    "* With each call to itself, the argument value is reduced until the if statment is no longer entered  \n",
    "* **Caution** required to not enter an **infinite loop**  "
   ]
  },
  {
   "cell_type": "markdown",
   "id": "acfd131c-401d-4321-bc37-f6abf0bcb4a7",
   "metadata": {},
   "source": [
    "[<p style=\"text-align: right;\">**⬆ Table of Contents ⬆**</p>](#C-Notes)"
   ]
  },
  {
   "cell_type": "markdown",
   "id": "37abb094-e9fb-4273-8d3e-c5ebbf1334a0",
   "metadata": {},
   "source": [
    "---"
   ]
  },
  {
   "cell_type": "markdown",
   "id": "eac77289-6807-48b1-ae61-3d2477fab41c",
   "metadata": {},
   "source": [
    "## Mathes Functions  \n",
    "`#include <math.h>`  \n",
    "* Include the header file  \n",
    "* For most functions, you will want to use the format specifier for float `%f`  "
   ]
  },
  {
   "cell_type": "markdown",
   "id": "de47de1e-bba6-42d8-a68c-09ce8205b045",
   "metadata": {},
   "source": [
    "|Function|Syntax|Description|\n",
    "|:--|:--:|:--|\n",
    "|Absolute|`abs(<x>)`|Returns the absolute value of `x`|\n",
    "|Arccosine|`acos(<x>)`|Returns the arccosine of `x`|\n",
    "|Arcsine|`asin(<x>)`|Returns the arcsine of `x`|\n",
    "|Arctangent|`atan(<x>)`|Returns the arctangent of `x`|\n",
    "|Ceiling|`ceil(<x>)`|Rounds number `x` **upwards** to **nearest integer**|\n",
    "|Cube root|`cbrt(<x>)`|Returns the cube root of `x`|\n",
    "|Cos|`cos(<x>)`|Returns the cosine of `x`|\n",
    "|Euler raised to x|`exp(<x>)`|Returns the value of <code>e<sup>x</sup></code>|\n",
    "|Floor|`floor(<x>)`|Rounds number `x` **downwards** to **nearest integer**|\n",
    "|Power|`pow(<x>, <y>)`|Finds the value of <code>x<sup>y</sup></code>|\n",
    "|Sine|`sin(<x>)`|Returns the sine of `x` (`x` is in radians)|\n",
    "|Square root|`sqrt(<x>)`|Find the **square root** of a number `x`|\n",
    "|Tan|`tan(<x>)`|Returns the tangent of an angle, ie: tan(`x`) = length_opposite/length_adjacent|"
   ]
  },
  {
   "cell_type": "markdown",
   "id": "2e32c51b-5ee2-4d8b-8ed7-5287bf7986bb",
   "metadata": {},
   "source": [
    "[<p style=\"text-align: right;\">**⬆ Table of Contents ⬆**</p>](#C-Notes)"
   ]
  },
  {
   "cell_type": "markdown",
   "id": "716c14d8-d4e6-4d38-bcb3-9769b418939b",
   "metadata": {},
   "source": [
    "---"
   ]
  },
  {
   "cell_type": "markdown",
   "id": "19309000-0c4d-4145-ba11-1c3373fe78bf",
   "metadata": {},
   "source": [
    "## Files  "
   ]
  },
  {
   "cell_type": "markdown",
   "id": "3b39573e-42a5-475a-a7bf-a5044739cd95",
   "metadata": {},
   "source": [
    "**File Handling:**  \n",
    "`FILE* <file_pointer>;`  \n",
    "`<file_pointer> = fopen(\"<filename>.<exetension>\", \"<mode>\");`  \n",
    "* Can create, open, read and write to files by declaring a **pointer of type** `FILE` (**example name: `fptr`**), and use `fopen()` function  \n",
    "* `<mode>` can be:  \n",
    "    * `w` - writes to a file **-- will create if does not exist**, also **<u>overwrites</u> previous content**  \n",
    "    * `a` - appends to a file **-- also creates if does not exist**  \n",
    "    * `r` - reads from a file **-- returns** `NULL` **if does not exist**  \n",
    "    * `r+` - Opens for both reading and writing. If the file doesn't exist or can't be found, the call to open the file fails   \n",
    "    * `w+` - Opens an empty file for both reading and writing. If the given file exists, its contents are destroyed  \n",
    "    * `a+` - The same as `a` but also allows reading  \n",
    "    * **r+ / w+ / a+** - requires **rewind()** between write/read operations. [Further reading](https://learn.microsoft.com/en-us/cpp/c-runtime-library/file-read-write-access-constants?view=msvc-170)  \n",
    "* When creating files, they will be created in the **same directory as the program file if nothing else other than name is specifiied**, however can provide path  "
   ]
  },
  {
   "cell_type": "markdown",
   "id": "1336dbd0-eafb-4782-89da-d7c15c7b9f8f",
   "metadata": {},
   "source": [
    "**Close file:**  \n",
    "`fclose(<file_pointer>);`  \n",
    "* **GOOD PRACTICE** to close file when done  \n",
    "\n",
    "<br>"
   ]
  },
  {
   "cell_type": "markdown",
   "id": "f51ae442-d1e4-4fe7-9f6a-74c0707c2647",
   "metadata": {},
   "source": [
    "**Writting to file:**  \n",
    "* Open file as above (in **write or append mode**)  \n",
    "\n",
    "`fprintf(<file_pointer>, \"<text_to_write>\");`  \n",
    "* Can enter multiple as follows:  \n",
    "\n",
    "`fprintf(<file_pointer>, \"%s %d <format_specifer> ...\", \"<text_to_write>\", <integer>, <variable>, ...);`  \n",
    "* [More info](https://www.tutorialspoint.com/c_standard_library/c_function_fprintf.htm)  \n",
    "* Remember to **close file** when done  \n",
    "\n",
    "<br>"
   ]
  },
  {
   "cell_type": "markdown",
   "id": "bdfed12a-2787-447c-9019-a5ba14d692c7",
   "metadata": {
    "jp-MarkdownHeadingCollapsed": true,
    "tags": []
   },
   "source": [
    "**Reading from a file:**  \n",
    "* Open file as above (in **read mode**)  \n",
    "\n",
    "<br>\n",
    "\n",
    "##### --Read line at a time--  \n",
    "* **Create** a **string large enough** to store contents:  \n",
    "\n",
    "`char <string_name>[<size>];`  \n",
    "* Use **fgets** function to **read text and store in string**:  \n",
    "\n",
    "`fgets(<string_name>, <max_size_of_data_to_read>, <file_pointer>);` &emsp;**--returns NULL at end of file**  \n",
    "* `<max_size_of_data_to_read>` will **usually match string size**  \n",
    "* Use `printf()` function to output text  \n",
    "* `fgets()` only **reads 1 line at a time** (up to size specified), need to use in **while loop** to read **every line** (see below)  \n",
    "\n",
    "<br>\n",
    "\n",
    "##### --Read character at a time--  \n",
    "\n",
    "`char <variable> = fgetc(<file_pointer>)` &emsp;**--returns EOF at end of file**\n",
    "* Returns unsigned char or EOF  \n",
    "\n",
    "<br>\n",
    "\n",
    "##### --GOOD PRACTICE to check file exists--  \n",
    "\n",
    "`if (<file_pointer> != NULL) {`  \n",
    "&emsp;`while (fgets(<string_name>, <max_size>, <file_pointner>)) {` &emsp;[--use feof() function with **fgetc()**](https://www.tutorialspoint.com/c_standard_library/c_function_feof.htm)  \n",
    "&emsp;&emsp;`printf(\"%s\", <string_name>);`  \n",
    "&emsp;`}`  \n",
    "`} else {`  \n",
    "&emsp;`printf(\"Not able to open the file.\");`  \n",
    "`}`  \n",
    "* **CLOSE FILE**  \n",
    "`fclose(<file_pointer>);`  \n",
    "\n",
    "<br>"
   ]
  },
  {
   "cell_type": "markdown",
   "id": "3f4e9838-2950-4726-b4fe-da13b771e8eb",
   "metadata": {},
   "source": [
    "##### --Writting and reading to file without closing inbetween--  \n",
    "* Open file in a **read/write mode** (r+, w+, a+)  \n",
    "* Requires **resetting** the **file position** to the beginning of the file between operations  \n",
    "`rewind(<file_pointer>);`  \n",
    "\n",
    "<br>"
   ]
  },
  {
   "cell_type": "markdown",
   "id": "72e3e67b-2e99-4928-a3f3-71ff39fd5f33",
   "metadata": {},
   "source": [
    "**fseek() --set file position of stream:**  \n",
    "`fseek(<file_pointer>, <long int offset>, <int whence>);`  \n",
    "* `<long int offset>` is the number of bytes to offset file positon from `whence`, this equates to **number of chars** in most cases  \n",
    "* `<int whence>` is the position **from where the offset is added** and can be one of the following:  \n",
    "    * `SEEK_SET` -- **Beginning of file**  \n",
    "    * `SEEK_CUR` -- **Current position**  \n",
    "    * `SEEK_END` -- **End of file**  \n",
    "\n",
    "Example:  \n",
    "`fseek(fp, 7, SEEK_SET);` -- sets file position 7 bytes (7 chars) from beginning of file  "
   ]
  },
  {
   "cell_type": "markdown",
   "id": "8cc4e8f3-4cdb-4b04-a013-7083cc7e5146",
   "metadata": {},
   "source": [
    "[<p style=\"text-align: right;\">**⬆ Table of Contents ⬆**</p>](#C-Notes)"
   ]
  },
  {
   "cell_type": "markdown",
   "id": "e6a609ad-88bd-4a29-a400-266900f10615",
   "metadata": {},
   "source": [
    "---"
   ]
  },
  {
   "cell_type": "markdown",
   "id": "6fe7de91-b7cb-4d0b-98e4-fe4b01ba9145",
   "metadata": {},
   "source": [
    "## Clock() Function  \n",
    "\n",
    "Function to get clock tick, allowing timing of functions etc.  \n",
    "\n",
    "`#include <time.h>`  \n",
    "* Must include the time header  \n",
    "\n",
    "<br>\n",
    "\n",
    "`clock_t <variable>;`  \n",
    "* Declares a clock tick object  \n",
    "\n",
    "<br>\n",
    "\n",
    "`<variable> = clock();`  \n",
    "* Gets clock tick and assigns to **clock_t variable**  \n",
    "* Can set a variable to **start** and **end** time (or a new variable = clock() - start_time)  \n",
    "* Note, **must divide by CLOCKS_PER_SEC** to get **seconds**  \n",
    "\n",
    "<br>\n",
    "\n",
    "`double <total_time_variable> = (double) (<end_time> - <start_time>) / CLOCKS_PER_SEC`  \n",
    "* Returns **elapsed time in <u>seconds</u>**  "
   ]
  },
  {
   "cell_type": "markdown",
   "id": "ad354b88-221b-4b5d-b1ec-e5dfad67e395",
   "metadata": {},
   "source": [
    "[<p style=\"text-align: right;\">**⬆ Table of Contents ⬆**</p>](#C-Notes)"
   ]
  },
  {
   "cell_type": "markdown",
   "id": "804f53a3-f194-4c6b-afc0-5115b2b2057a",
   "metadata": {},
   "source": [
    "---"
   ]
  },
  {
   "cell_type": "markdown",
   "id": "23841391-4141-46d9-a346-201d52d4b491",
   "metadata": {},
   "source": [
    "## Structs (Structures)  \n",
    "\n",
    "A way to **group several related variables into one place**  \n",
    "Each variable in the struct is known as **a member**  \n",
    "**Can contain different types**  \n",
    "\n",
    "<br>\n",
    "\n",
    "##### --Declare a structure--  \n",
    "`struct <structure_name> {`  \n",
    "&emsp;`<type> <member_variable>;`  \n",
    "&emsp;`<type> <member_variable>;`  \n",
    "&emsp;`...`  \n",
    "`};`  \n",
    "* Usually declared outside of main method  \n",
    "\n",
    "<br>\n",
    "\n",
    "##### --Create a struct variable--  \n",
    "`struct <structure_name> <structure_variable>;`\n",
    "* Usually declared inside the main method  \n",
    "\n",
    "<br>\n",
    "\n",
    "##### --Assign and access member values--  \n",
    "Either **at declaration:**  \n",
    "`struct <structure_name> <structure_variable> = {<member1_value>, <member2_value>, ...};`  \n",
    "* Must be in **same order as declared in the structure**  \n",
    "\n",
    "**OR**  \n",
    "\n",
    "`<structure_variable>.<member_variable> = <value>;`  \n",
    "`printf(\"<specifier>\", <structure_variable>.<member_variable>);`  \n",
    "* Assigns a value to a structure member (can also **modify in the same manner**)  \n",
    "* To **assign a string to** a char array **member**, **MUST use strcpy():**  \n",
    "&emsp;`strcpy(<structure_variable>.<string_member_variable>, \"<string>\");`  \n",
    "* To **access members of a structure**, use the **dot operator**. To **access members of a structure through a <u>pointer</u>** (such as in a function), use the **arrow operator:**  \n",
    "`strcpy(<structure_pointer>`**`->`**`<string_member_variable>, \"<string>\");` &emsp;**--don't however use spaces between pointer and member**  \n",
    "\n",
    "Structures can also be **copied to another structure**  \n",
    "`<structure_variable1> = <structure_variable2>;`  \n",
    "\n",
    "<br>\n",
    "\n",
    "##### --Using typedef to define a new data type--  \n",
    "`typedef strut <structure_name> {`  \n",
    "&emsp;`<type> <member_variable>;`  \n",
    "&emsp;`<type> <member_variable>;`  \n",
    "&emsp;`...`  \n",
    "`} <type_name>;`  \n",
    "\n",
    "* Defining a structure in this way allows us to **define structure variables directly**:  \n",
    "`<type_name> <variable>;`  \n",
    "* Assign values in the same way as above  "
   ]
  },
  {
   "cell_type": "markdown",
   "id": "cc8a87a5-b736-4438-92bf-932e0addd9c0",
   "metadata": {},
   "source": [
    "[<p style=\"text-align: right;\">**⬆ Table of Contents ⬆**</p>](#C-Notes)"
   ]
  },
  {
   "cell_type": "markdown",
   "id": "d548dccb-503f-4a1f-913d-cdb79ca83c4b",
   "metadata": {},
   "source": [
    "---"
   ]
  },
  {
   "cell_type": "markdown",
   "id": "6b31b906-fd1a-46a2-be11-0561659ee9a4",
   "metadata": {},
   "source": [
    "## Aliases with #define  \n",
    "`#define <alias> <value>`  \n",
    "* Note `;` is not used  \n",
    "example:  \n",
    "`#define TRUE 1`  \n",
    "`printf( \"Value of TRUE : %d\\n\", TRUE);`  **--Value of TRUE : 1**  "
   ]
  },
  {
   "cell_type": "markdown",
   "id": "67e598cc-937e-4605-a433-39bb86fc46dc",
   "metadata": {},
   "source": [
    "[<p style=\"text-align: right;\">**⬆ Table of Contents ⬆**</p>](#C-Notes)"
   ]
  },
  {
   "cell_type": "markdown",
   "id": "91094d6a-3e4d-49b0-8111-a8ccd26006ca",
   "metadata": {},
   "source": [
    "---"
   ]
  },
  {
   "cell_type": "markdown",
   "id": "50b7106c-428d-46ea-9b19-2a0f47be3d92",
   "metadata": {},
   "source": [
    "## Enums (Enumerated lists)  \n",
    "Often **used in switch statments**  \n",
    "Or give **names to constansts**  \n",
    "\n",
    "`enum <enum_name> {`  \n",
    "&emsp;`<ENUM_ITEM1>,` &emsp;**-- declared in caps as constant**  \n",
    "&emsp;`<ENUM_ITEM2>,`  \n",
    "&emsp;`...`  \n",
    "`};`  \n",
    "* Declares enum list (usually outside main method)  \n",
    "* Can **assign value** to item with `<ENUM_ITEM> = <value>,`  \n",
    "\n",
    "`enum <enum_name> <enum_variable> = <ENUM_ITEM>;`  \n",
    "`printf(\"%d\", <enum_variable>);`  \n",
    "* Top item in list will have **default value = 0**, next = 1 and so on  \n",
    "* **If assigned a value** to an item in a list, the **following items will continue from given** number  "
   ]
  },
  {
   "cell_type": "markdown",
   "id": "f95abc1a-76a5-4281-9993-7791a1e773b3",
   "metadata": {},
   "source": [
    "[<p style=\"text-align: right;\">**⬆ Table of Contents ⬆**</p>](#C-Notes)"
   ]
  },
  {
   "cell_type": "markdown",
   "id": "149aa788-0838-43a1-9213-44bd2d131c83",
   "metadata": {},
   "source": [
    "---"
   ]
  },
  {
   "cell_type": "code",
   "execution_count": null,
   "id": "a69e54a2-f5e1-4ea5-a3f6-2a6533cadc63",
   "metadata": {},
   "outputs": [],
   "source": []
  }
 ],
 "metadata": {
  "kernelspec": {
   "display_name": "Python 3 (ipykernel)",
   "language": "python",
   "name": "python3"
  },
  "language_info": {
   "codemirror_mode": {
    "name": "ipython",
    "version": 3
   },
   "file_extension": ".py",
   "mimetype": "text/x-python",
   "name": "python",
   "nbconvert_exporter": "python",
   "pygments_lexer": "ipython3",
   "version": "3.9.7"
  }
 },
 "nbformat": 4,
 "nbformat_minor": 5
}
