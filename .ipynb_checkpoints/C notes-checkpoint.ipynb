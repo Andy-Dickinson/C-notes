{
 "cells": [
  {
   "cell_type": "markdown",
   "id": "7f97a600-1c8c-4d67-b614-5f170e1f4e7e",
   "metadata": {
    "tags": []
   },
   "source": [
    "# <center>C Notes</center>"
   ]
  },
  {
   "cell_type": "code",
   "execution_count": null,
   "id": "9cece505-b8d0-4b2f-8955-cafed5359b73",
   "metadata": {},
   "outputs": [],
   "source": []
  }
 ],
 "metadata": {
  "kernelspec": {
   "display_name": "Python 3 (ipykernel)",
   "language": "python",
   "name": "python3"
  },
  "language_info": {
   "codemirror_mode": {
    "name": "ipython",
    "version": 3
   },
   "file_extension": ".py",
   "mimetype": "text/x-python",
   "name": "python",
   "nbconvert_exporter": "python",
   "pygments_lexer": "ipython3",
   "version": "3.9.7"
  }
 },
 "nbformat": 4,
 "nbformat_minor": 5
}
