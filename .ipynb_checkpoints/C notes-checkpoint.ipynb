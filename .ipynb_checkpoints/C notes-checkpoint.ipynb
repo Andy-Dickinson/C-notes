{
 "cells": [
  {
   "cell_type": "markdown",
   "id": "7f97a600-1c8c-4d67-b614-5f170e1f4e7e",
   "metadata": {
    "tags": []
   },
   "source": [
    "# <center>C Notes</center>"
   ]
  },
  {
   "cell_type": "markdown",
   "id": "5d8c8ad0-c6bc-4b76-8cc9-d19a1b23fca2",
   "metadata": {},
   "source": [
    "[Documentation](https://devdocs.io/c/)"
   ]
  },
  {
   "cell_type": "markdown",
   "id": "d7fc0c12-7b14-4cfc-8a31-c42e4c568cdc",
   "metadata": {},
   "source": [
    "C is **CASE SENSITIVE** and **ALL INSTRUCTIONS** shoule be written in **LOWERCASE**...No camelcase!!  "
   ]
  },
  {
   "cell_type": "markdown",
   "id": "89315c6b-fc54-4dc9-8bbe-2669cae7f524",
   "metadata": {},
   "source": [
    "C is a **high-level fully compiled** language  \n",
    "C is a **procedural language** that provides no support for objects and classes  \n",
    "Designed as a **general-purpose** programming language by Dennis Ritchie at the Bell Laboratories in 1972  \n",
    "C is very fast compared to other languages, like Java and Python  \n",
    "C++ supports classes and objects unlike C  "
   ]
  },
  {
   "cell_type": "markdown",
   "id": "d85f51f7-5526-4e09-ad5c-8cf1d305a70f",
   "metadata": {},
   "source": [
    "A text editor is required, like Notepad,  \n",
    "along with a compiler like GCC.  \n",
    "Visual Studio can be used if an IDE is wanted  "
   ]
  },
  {
   "cell_type": "markdown",
   "id": "42089a1e-d12e-4286-93ed-949d9ba9b941",
   "metadata": {},
   "source": [
    "### Compile:  \n",
    "\n",
    "Download [mingw-setup.exe](http://www.codeblocks.org/) for IDE  \n",
    "OR in terminal, enter **bash** >> **GCC `filename.c` -o nameOfExeFile**  \n",
    "\n",
    "After writing a file in **.c**:  \n",
    "In IDE, click **Build** >> **Build and Run**  "
   ]
  },
  {
   "cell_type": "markdown",
   "id": "c30dd6d7-a57a-4d6d-af39-bfe369ddca54",
   "metadata": {},
   "source": [
    "### Syntax:  \n",
    "\n",
    "#### Header file library  \n",
    "**`#include <stdio.h>`**  \n",
    "* Allows us to work with input and output functions such as printf()  \n",
    "\n",
    "Every statement ends with semi-colon **`;`**  \n",
    "\n",
    "Example code:  \n",
    "`#include <stdio.h>`  \n",
    "  \n",
    "`int main() {`  \n",
    "&emsp;`printf(\"Hello World!\");`  \n",
    "&emsp;`return 0;`  \n",
    "`}`  \n",
    "* main() is required in every C program  \n",
    "* return 0 ends the main() function  \n",
    "* curley brackets required for functions  "
   ]
  },
  {
   "cell_type": "markdown",
   "id": "65651406-7d2b-4dee-952c-7bf330de8bae",
   "metadata": {},
   "source": [
    "**Print**  \n",
    "`printf(\"print message\");`  \n",
    "* Does NOT insert a new line at the end of the output.  \n",
    "* print new line with `\\n`**  "
   ]
  },
  {
   "cell_type": "markdown",
   "id": "ef0e87d3-8850-49d3-bb3b-3460770b642f",
   "metadata": {},
   "source": [
    "**Escape characters:**  \n",
    "`\\t` Horizontal tab  \n",
    "`\\\\` Insert **&bsol;** character  \n",
    "`\\\"` Insert **\"** character  \n",
    "`\\n` Insert **new line**  \n",
    "`\\0` **Null** (Used to terminate char strings)  "
   ]
  },
  {
   "cell_type": "markdown",
   "id": "a3324f6b-a0ea-4bea-a3be-4ace527ab1c7",
   "metadata": {},
   "source": [
    "**Comments:**  \n",
    "`//` Single line comments  \n",
    "`/*` Multiline comments, remember to finish with `*/  "
   ]
  },
  {
   "cell_type": "markdown",
   "id": "8aa8c249-5900-49d6-a135-4c46e7640790",
   "metadata": {},
   "source": [
    "**Declaring variables:**  \n",
    "`<type> <variable_name> = <value>;`  \n",
    "* Variables can be declared without assigning a value on creation `<type> <variable_name>;`  \n",
    "* Multiple variables of the same type can be assigned in one line seperated with a comma `<type> <variable1> = <val>, <variable2> = <val>, ...;`\n",
    "* Variables **CANNOT** be printed with printf - use **format specifiers**  "
   ]
  },
  {
   "cell_type": "markdown",
   "id": "05e0e31e-1ea3-4a82-b07e-43b7244fe5e2",
   "metadata": {},
   "source": [
    "**Format specifiers and types:**  \n",
    "`printf(\"<specifier>\", <variable_name>);`  \n",
    "* Used to output variables  \n",
    "* Text can be included in quotes  \n",
    "* Multiple specifiers can be included, list variables seperated with commas  \n",
    "\n",
    "|Specifier|Type|Size|Description|\n",
    "|:--:|:--|:--|:--|\n",
    "|`%d` or `%i`|int|2 or 4 bytes|Stores whole numbers, without decimals<br>d = Signed integer<br>i = Unsigned integer|\n",
    "|`%c`|char|1 byte|Stores a single character/letter/number, or ASCII values|\n",
    "|`%f`|float|4 bytes|Stores fractional numbers, containing one or more decimals. Sufficient for storing 6-7 decimal digits<br>Specify number of decimals with `%.<num>f`|\n",
    "|`%lf`|double|8 bytes|Stores fractional numbers, containing one or more decimals. Sufficient for storing 15 decimal digits<br>Specify number of decimals with `%.<num>lf`|\n",
    "|`%s`|string|||\n",
    "|`%lu`|Unsigned int or unsigned long|||\n",
    "|`%p`|Pointer|||\n",
    "\n",
    "[Format specifiers in C](https://www.tutorialspoint.com/format-specifiers-in-c)"
   ]
  },
  {
   "cell_type": "markdown",
   "id": "f012ed6c-08df-418f-85a1-4da48601b824",
   "metadata": {},
   "source": [
    "**Sizeof Operator:**  \n",
    "`printf(\"%lu\\n\", sizeof(<variable_name>));`  \n",
    "* Prints the memory size **(in bytes)** of a data type or a variable  \n",
    "* Compiler expects the sizeof operator to return a long unsigned int (%lu)  "
   ]
  },
  {
   "cell_type": "markdown",
   "id": "9281b784-856e-4a8e-9f2f-d62b50b12574",
   "metadata": {},
   "source": [
    "**Type conversion and sums:**  \n",
    "**CAUTION using floats**  \n",
    "`float <varaible_name> = 5 / 2;`  \n",
    "* This will result in **2.000000** as `5` and `2` are both **ints**  \n",
    "\n",
    "`float <variable_name> = (float) 5 / 2;`  \n",
    "* This outputs **correctly** as a float  "
   ]
  },
  {
   "cell_type": "markdown",
   "id": "0fca3dfe-3c2b-4b1b-8be9-9a6c8c149450",
   "metadata": {},
   "source": [
    "**Constants:**  \n",
    "`const <type> <VARIABLE_NAME> = <value>;`  \n",
    "* Declares an **unchangable and read-only** variable  \n",
    "* **MUST** be assigned with a **value** when declaring a constant  \n",
    "* Usual to declare constant variable name in uppercase  "
   ]
  },
  {
   "cell_type": "markdown",
   "id": "8f3ce512-fff9-4e94-839a-7efab35529e1",
   "metadata": {},
   "source": [
    "**Arithmetic Operators:**  \n",
    "\n",
    "|Operator|Name|Description|Example|\n",
    "|:--:|:--|:--|:--|\n",
    "|`+`|Addition|Adds together two values|x + y|\n",
    "|`-`|Subtraction|Subtracts one value from another|x - y|\n",
    "|`*`|Multiplication|Multiplies two values|x * y|\n",
    "|`/`|Division|Divides one value by another|x / y|\n",
    "|`%`|Modulus|Returns the division remainder|x % y|\n",
    "|`++`|Increment|Increases the value of a variable by 1|++x (increments, then outputs)<br>x++ (outputs, then increments)|\n",
    "|`--`|Decrement|Decreases the value of a variable by 1|--x (decreases, then outputs)<br>x-- (outputs, then decreases)|"
   ]
  },
  {
   "cell_type": "markdown",
   "id": "6990ae03-300c-4f4f-89cb-44ecf41b61fa",
   "metadata": {},
   "source": [
    "**Assignment Operators:**  \n",
    "\n",
    "|Operator|Description|Example|\n",
    "|:--:|:--|:--|\n",
    "|`=`|Simple assignment operator. Assigns values from right side operands to left side operand|C = A + B will assign the value of A + B to C|\n",
    "|`+=`|Add AND assignment operator. It adds the right operand to the left operand and assign the result to the left operand|C += A is equivalent to C = C + A|\n",
    "|`-=`|Subtract AND assignment operator. It subtracts the right operand from the left operand and assigns the result to the left operand|C -= A is equivalent to C = C - A|\n",
    "|`*=`|Multiply AND assignment operator. It multiplies the right operand with the left operand and assigns the result to the left operand|C \\*= A is equivalent to C = C \\* A|\n",
    "|`/=`|Divide AND assignment operator. It divides the left operand with the right operand and assigns the result to the left operand|C /= A is equivalent to C = C / A|\n",
    "|`%=`|Modulus AND assignment operator. It takes modulus using two operands and assigns the result to the left operand|C %= A is equivalent to C = C % A|\n",
    "|`<<=`|Left shift AND assignment operator|C <<= 2 is same as C = C << 2|\n",
    "|`>>=`|Right shift AND assignment operator|C >>= 2 is same as C = C >> 2|\n",
    "|`&=`|Bitwise AND assignment operator|C &= 2 is same as C = C & 2|\n",
    "|`^=`|Bitwise exclusive OR and assignment operator|C ^= 2 is same as C = C ^ 2|\n",
    "|`\\|=`|Bitwise inclusive OR and assignment operator|C \\|= 2 is same as C = C \\| 2|"
   ]
  },
  {
   "cell_type": "markdown",
   "id": "69071b01-3668-45e6-9e7a-c431b536ae07",
   "metadata": {},
   "source": [
    "**Comparison Operators:**  \n",
    "\n",
    "|Operator|Name|\n",
    "|:--:|:--|\n",
    "|`==`|Equal to|\n",
    "|`!=`|Not equal|\n",
    "|`>`|Greater than|\n",
    "|`<`|Less than|\n",
    "|`>=`|Greater than or equal to|\n",
    "|`<=`|Less than or equal to|"
   ]
  },
  {
   "cell_type": "markdown",
   "id": "81f87cc6-9ba3-4807-a907-fcae0754393f",
   "metadata": {},
   "source": [
    "**Logical Operators:**  \n",
    "\n",
    "|Operator|Name|Description|Example|\n",
    "|:--:|:--|:--|:--|\n",
    "|`&&`|Logical and|Returns true if both statements are true|x < 5 &&  x < 10|\n",
    "|`\\|\\|`|Logical or|Returns true if one of the statements is true|x < 5 \\|\\| x < 4|\n",
    "|`!`|Logical not|Reverse the result, returns false if the result is true|!(x < 5 && x < 10)|"
   ]
  },
  {
   "cell_type": "markdown",
   "id": "28a635df-f79e-4b30-a46c-1ea2ab9daf82",
   "metadata": {},
   "source": [
    "[All operators and Operators Precedence](https://www.tutorialspoint.com/cprogramming/c_operators.htm)"
   ]
  },
  {
   "cell_type": "markdown",
   "id": "f95ff272-978b-4c73-8c1e-098271b824b0",
   "metadata": {},
   "source": [
    "[C-data types](https://www.tutorialspoint.com/cprogramming/c_data_types.htm)"
   ]
  },
  {
   "cell_type": "markdown",
   "id": "eb09e657-bb1d-4b38-8bdf-f3421473e3a7",
   "metadata": {},
   "source": [
    "**Booleans:**  \n",
    "`#include <stdbool.h>`  \n",
    "`bool <varaible_name> = <value>;`  \n",
    "* Booleans are not a built-in type, and **must be included** in the header as shown  \n",
    "* Can **take** values `true` or `false`  \n",
    "* **Returned** as **integers**  \n",
    "* **Use** **`%d`** format specifier  \n",
    "* Can compare numbers, boolean variables, or special structures like arrays  "
   ]
  },
  {
   "cell_type": "markdown",
   "id": "ca9133e1-ca93-44eb-adef-d6562e45cd53",
   "metadata": {},
   "source": [
    "---"
   ]
  },
  {
   "cell_type": "markdown",
   "id": "456e2a03-9544-47e0-9860-8cdf7f12bd7d",
   "metadata": {},
   "source": [
    "## Loops"
   ]
  },
  {
   "cell_type": "markdown",
   "id": "b15991b0-f2c2-4947-b1ee-46c9bb5c9b26",
   "metadata": {},
   "source": [
    "**if ... else:**  \n",
    "`if (condition) {`  \n",
    "&emsp;`code to execute if condition is true;`  \n",
    "`} else if (condition2) {`  \n",
    "&emsp;`code to execute if condition2 is true;`  \n",
    "`else {`  \n",
    "&emsp;`code to execute if condition is false;`  \n",
    "`}`  \n",
    "* Else if and else blocks are optional  "
   ]
  },
  {
   "cell_type": "markdown",
   "id": "8277a8af-d5ec-45eb-b969-b751c933f7cd",
   "metadata": {},
   "source": [
    "**Short hand if ... else (ternary operator):**  \n",
    "`<variable_name> = (condition) ? expression_true : expression_false;`  \n",
    "* Does not require being assigned to a variable  \n",
    "* Runs expressionTrue when condition true, and expressionFalse when false  "
   ]
  },
  {
   "cell_type": "markdown",
   "id": "8fa16320-ba8e-4948-8449-bc2052417c0e",
   "metadata": {},
   "source": [
    "**Switch statement:**  \n",
    "`switch(expression) {`  \n",
    "&emsp;`case <value>:`  \n",
    "&emsp;&emsp;`code block;`  \n",
    "&emsp;&emsp;`break;`  \n",
    "&emsp;`case <value>:`  \n",
    "&emsp;&emsp;`code block;`  \n",
    "&emsp;&emsp;`break;`  \n",
    "&emsp;`default:`  \n",
    "&emsp;&emsp;`code block;`  \n",
    "`}`  \n",
    "* The switch expression (can be a variable) is evaluated once  \n",
    "* The value of the expression is compared with the values of each case  \n",
    "* If there is a match, the associated block of code is executed  \n",
    "* The break statement breaks out of the switch block and stops the execution  \n",
    "* The default statement is optional, and specifies some code to run if there is no case match  "
   ]
  },
  {
   "cell_type": "markdown",
   "id": "53e88cb1-9873-418c-a8ff-da12167e6cea",
   "metadata": {},
   "source": [
    "**While loop:**  \n",
    "`while (condition) {`  \n",
    "&emsp;`code block to be executed;`  \n",
    "&emsp;`incrementer;`  \n",
    "`}`  \n",
    "* Incrementer is not always included (infinite loop / change value to false etc), but is very common  \n",
    "* Executes loop while condition is true  \n",
    "* May never run, as condition is checked first  "
   ]
  },
  {
   "cell_type": "markdown",
   "id": "e3b4afb9-3ee5-4bdb-9b5e-afbf77ef5ff5",
   "metadata": {},
   "source": [
    "**Do/While loop:**  \n",
    "`do {`  \n",
    "&emsp;`code block to be executed;`  \n",
    "&emsp;`incrementer;`  \n",
    "`}`  \n",
    "`while (condition);`  \n",
    "* Incrementer is not always included (infinite loop / change value to false etc), but is very common  \n",
    "* Executes loop while condition is true  \n",
    "* Will be executed at least once, as condition is checked **after** code block is run    "
   ]
  },
  {
   "cell_type": "markdown",
   "id": "1800820e-3fa2-43d3-8f8d-366e62bb20a9",
   "metadata": {},
   "source": [
    "**For loop:**  \n",
    "`for (initialise; condition; incrementer) {`  \n",
    "&emsp;`code block to be executed;`  \n",
    "`}`  \n",
    "* Used when you **know exactly** how many times you want to loop  "
   ]
  },
  {
   "cell_type": "markdown",
   "id": "5da0d71a-b6ae-41e6-a396-2e46753b339e",
   "metadata": {},
   "source": [
    "**Break statment:**  \n",
    "`break;`\n",
    "* Used to break out of a loop or switch statment  "
   ]
  },
  {
   "cell_type": "markdown",
   "id": "63844035-e72a-45bc-b155-e2a2b073ccbf",
   "metadata": {},
   "source": [
    "**Continue statment:**  \n",
    "`continue;`  \n",
    "* Breaks one iteration (usually in a loop)  "
   ]
  },
  {
   "cell_type": "markdown",
   "id": "8d256cfd-731b-43b0-9bf0-6cd2fc6a03bc",
   "metadata": {},
   "source": [
    "---"
   ]
  },
  {
   "cell_type": "markdown",
   "id": "56b802ec-a018-41d0-abb4-311f16e29893",
   "metadata": {},
   "source": [
    "## Arrays  \n",
    "* Used to store multiple values in a single variable, instead of declaring separate variables for each value  \n",
    "\n",
    "`<type> <variable_name>[] = {<val1>, <val2>, ...};`  \n",
    "**OR**  \n",
    "`<type> <variable_name>[<size>]`  \n",
    "* Access elements with `<variable_name>[<index>]` (first element is **index 0**)  \n",
    "* Elements can be reassigned by indexing and using assignment operator  \n",
    "* **Cannot change size** after creation  "
   ]
  },
  {
   "cell_type": "markdown",
   "id": "1856f637-52c7-40bb-add9-08c0c87dd5d8",
   "metadata": {},
   "source": [
    "**Matrices:**  \n",
    "`<type> <variable_name>[<size>][<size>]... = { {<values of 1st row, comma seperated>}, {<values of 2nd row>} };`  \n",
    "* Index with `<variable_name>[<row>][<col>]...`  "
   ]
  },
  {
   "cell_type": "markdown",
   "id": "eb967ab7-38ce-45f7-b8fa-a2c9b68fb4b9",
   "metadata": {},
   "source": [
    "---"
   ]
  },
  {
   "cell_type": "markdown",
   "id": "36f36572-f163-41ca-a2d5-69afa5490af6",
   "metadata": {},
   "source": [
    "## Strings  \n",
    "* No String type in C, must use `char` and create an `array` of characters  \n",
    "\n",
    "`char <variable_name>[] = \"<string>\";`  \n",
    "**OR**  \n",
    "`char <variable_name>[] = {'<char0>', '<char1>', ..., '\\0'};` &emsp; -- **MUST include** `'\\0'` at end  \n",
    "* Must use double quotes  \n",
    "* Output with format specifier `%s`  \n",
    "* Access elements by indexing like arrays `<variable_name>[<index>]`  \n",
    "* Change a character by indexing and using **single quotes** `<variable_name>[<index>] = '<newChar>';`  \n",
    "* `'\\0'` is the null terminating character, and must be included when creating a string with chars (This still counts as a character with sizeof operator)  "
   ]
  },
  {
   "cell_type": "markdown",
   "id": "16d92941-5c28-499e-98aa-1ae0bfa0a209",
   "metadata": {},
   "source": [
    "**Special Characters:**  \n",
    "* The following must be escaped when adding to a string:  \n",
    "* Note the backslash counts as one character, and the character its escaping as another when using the sizeof operator  \n",
    "\n",
    "|Character|Enter as|Description|\n",
    "|:--:|:--:|:--|\n",
    "|`'`|`\\'`|Single quote|\n",
    "|`\"`|`\\\"`|Double quote|\n",
    "|`\\`|`\\\\`|Backslash|"
   ]
  },
  {
   "cell_type": "markdown",
   "id": "d17ba224-e84f-475a-8647-07a1a9a3d9af",
   "metadata": {},
   "source": [
    "## String Functions:  \n",
    "`#include <string.h>`  \n",
    "* **Must include** in header to use String functions  \n",
    "\n",
    "|Function name|Syntax|Specifier (if printing)|Description|\n",
    "|:--|:--:|:--:|:--|\n",
    "|String Length|`strlen(<variable>);`|`%d`|Returns the length of a string **NOT including** null terminator or escape characters|\n",
    "|Concatenate Strings|`strcat(<string_var1>, <string_var2>);`|`%s`|Combines two strings, result is **stored in \\<string_var1\\>**<br>Note that the **size** of **\\<string_var1\\>** should be **large enough** to store the result of the **two strings combined**|\n",
    "|Copy String|`strcpy(<string_var2>, <string_var1>);`|`%s`|Copies \\<string_var1\\> to \\<string_var2\\><br>Note that the **size** of **\\<string_var2\\>** should be **large enough** to store the copied string|\n",
    "|Compare Strings|`strcmp(<string_var1>, <string_var2>);`|`%d`|Compares two strings<br>Returns **0 if equal**, or a non-zero value if not equal|"
   ]
  },
  {
   "cell_type": "markdown",
   "id": "9ed933ff-0f23-4564-af83-52cc19f84cc9",
   "metadata": {},
   "source": [
    "---"
   ]
  },
  {
   "cell_type": "markdown",
   "id": "e664922a-e006-4f1d-84b7-d83468aba23e",
   "metadata": {},
   "source": [
    "## User Input:  \n",
    "**Single words:**  \n",
    "`scanf(\"%<format_specifier>\", &<variable_name>);`  \n",
    "**Multiple inputs (single words):**  \n",
    "`scanf(\"%<format_specifier1> %<format_specifier1> ...\", &<variable_name>, &<variable_name>, ...);`  \n",
    "* **Size of string array** used must have been specified, so **ensure large enough**  \n",
    "* **Whitespace and tabs etc** considered **terminating characters**, so if multiple words entered for a single string, **only the first word will be accepted**  \n",
    "\n",
    "**Line of text input:**  \n",
    "`fgets(<variable_name>, sizeof(<variable_name>), stdin);`  \n",
    "* Reads a **line of input text**  "
   ]
  },
  {
   "cell_type": "markdown",
   "id": "9eb34136-3f9a-4bde-b1f1-b7087195b307",
   "metadata": {},
   "source": [
    "---"
   ]
  },
  {
   "cell_type": "markdown",
   "id": "40f65014-eb0a-4408-846d-482fcca51167",
   "metadata": {},
   "source": [
    "## Memory Address and Pointers  \n",
    "\n",
    "**Memory address:**  \n",
    "`printf(\"%p\\n\", &<variable_name>);`  \n",
    "* Returns the **memory address in hexidecimal**  \n",
    "* When a variable is created in C, a memory address is assigned to the variable  \n",
    "* `&` is the **reference operator**, `&<variable_name>` is called a **pointer**   \n",
    "\n",
    "**Pointers:**  \n",
    "`<type>* <pointer_variable_name> = &<variable_name>;`  \n",
    "* A **variable** that **stores** the **memory address of another variable** as its value  \n",
    "* A **pointer variable points** to a **data type** of the **same type**, these <u>must match</u>  \n",
    "* `*` is **required**  \n",
    "* Use with **CAUTION**, as **possible to damage data stored in other memory addresses**  \n",
    "\n",
    "**Print <u>address</u> of variable pointer is pointing at:**  \n",
    "`printf(\"%p\\n\", <pointer_variable_name>);`  \n",
    "* Outputs the memory address of the variable the pointer is pointing to  \n",
    "\n",
    "**Print <u>value</u> of variable pointer is pointing at:**  \n",
    "`printf(\"%<specifier>\\n\", *<pointer_variable_name>);`  \n",
    "* `*` is known as the **dereference operator**  \n",
    "* Outputs the value of the variable the pointer is pointing to  \n",
    "\n",
    "**Access arrays with pointers:**  \n",
    "`int <array_name>[<size>] = {<val1>, <val2>, ...};`  \n",
    "* Defines an array  \n",
    "`printf(\"%d\", *<array_name>);`  \n",
    "* Prints **1st element** of array as that is the same address as the array itself  \n",
    "`printf(\"%d\", *(<array_name> + 1));`  \n",
    "* Prints the **2nd element** of array  \n",
    "`printf(\"%d\", *(<array_name> + 2));`  \n",
    "* Prints the **3rd element** of array  \n",
    "* This technique can be used in a **loop** by replacing the number to increase the address with `i`  \n",
    "* **Accessing arrays** (especially large arrays), is **faster with pointers**   "
   ]
  },
  {
   "cell_type": "markdown",
   "id": "98f2c2be-05e4-450e-be3d-f65cbc81c3c7",
   "metadata": {},
   "source": []
  },
  {
   "cell_type": "markdown",
   "id": "6563ee03-cbda-47a6-843d-c5648c8b37fa",
   "metadata": {},
   "source": []
  },
  {
   "cell_type": "markdown",
   "id": "0fc1e743-377c-431c-bb17-9eaa9747d34f",
   "metadata": {},
   "source": []
  },
  {
   "cell_type": "markdown",
   "id": "e0333bc4-0411-4f51-bb91-4edd53ebcaac",
   "metadata": {},
   "source": []
  }
 ],
 "metadata": {
  "kernelspec": {
   "display_name": "Python 3 (ipykernel)",
   "language": "python",
   "name": "python3"
  },
  "language_info": {
   "codemirror_mode": {
    "name": "ipython",
    "version": 3
   },
   "file_extension": ".py",
   "mimetype": "text/x-python",
   "name": "python",
   "nbconvert_exporter": "python",
   "pygments_lexer": "ipython3",
   "version": "3.9.7"
  }
 },
 "nbformat": 4,
 "nbformat_minor": 5
}
